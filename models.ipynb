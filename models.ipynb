{
 "cells": [
  {
   "cell_type": "code",
   "execution_count": 179,
   "id": "developed-japanese",
   "metadata": {},
   "outputs": [],
   "source": [
    "import pandas as pd\n",
    "import sklearn as sk\n",
    "import numpy as np\n",
    "import matplotlib.pyplot as plt"
   ]
  },
  {
   "cell_type": "code",
   "execution_count": 216,
   "id": "cosmetic-passing",
   "metadata": {
    "scrolled": true
   },
   "outputs": [],
   "source": [
    "path = 'NewYork' + '//'\n",
    "file = 'listings.csv'\n",
    "df = pd.read_csv(path + file)"
   ]
  },
  {
   "cell_type": "code",
   "execution_count": 217,
   "id": "seven-product",
   "metadata": {},
   "outputs": [],
   "source": [
    "# Parsing functions used to format data types \n",
    "def parseNum(num):\n",
    "    return int(num)\n",
    "\n",
    "def parsePrices(price):\n",
    "    price = price.replace('$', '')\n",
    "    price = price.replace(',', '')\n",
    "    #print(price)\n",
    "    return int(float(price))\n",
    "\n",
    "def countAmenities(amen):\n",
    "    return len(amen)\n",
    "\n",
    "def parseBool(val):\n",
    "    if val == 't':\n",
    "        return 1\n",
    "    elif val == 'f':\n",
    "        return 0\n",
    "    \n",
    "def parseDF(in_df):\n",
    "    in_df['id'] = in_df['id'].apply(parseNum)\n",
    "    in_df['amenities'] = in_df['amenities'].apply(countAmenities)\n",
    "    in_df['calculated_host_listings_count'] = in_df['calculated_host_listings_count'].apply(parseNum)\n",
    "    in_df['number_of_reviews'] = in_df['number_of_reviews'].apply(parseNum)\n",
    "    in_df['host_identity_verified'] = in_df['host_identity_verified'].apply(parseBool)\n",
    "    return in_df\n",
    "    \n",
    "def splitDF(in_df):\n",
    "    in_df['price'] = in_df['price'].apply(parsePrices)\n",
    "    under100 = (in_df['price'] <= 100)\n",
    "    from100to200 = (in_df['price'] > 100) & (in_df['price'] <= 200)\n",
    "    over200 = (in_df['price'] > 200)\n",
    "    \n",
    "    df1 = in_df[under100]\n",
    "    df2 = in_df[from100to200]\n",
    "    df3 = in_df[over200]\n",
    "    \n",
    "    return df1.fillna(0), df2.fillna(0), df3.fillna(0)"
   ]
  },
  {
   "cell_type": "code",
   "execution_count": 218,
   "id": "diverse-interview",
   "metadata": {},
   "outputs": [],
   "source": [
    "# First we split the dataframe into 3 parts an then we parse them to make them ready for regression\n",
    "\n",
    "df1, df2, df3 = splitDF(df)\n",
    "regression_rows = ['id', 'price', 'amenities', 'calculated_host_listings_count', 'number_of_reviews', 'host_identity_verified', 'review_scores_rating']\n",
    "\n",
    "\n",
    "df1 = parseDF(df1)\n",
    "df1 = df1[regression_rows]\n",
    "df2 = parseDF(df2)\n",
    "df2 = df2[regression_rows]\n",
    "df3 = parseDF(df3)\n",
    "df3 = df3[regression_rows]\n",
    "\n",
    "X = df1.drop('review_scores_rating', axis=1)\n",
    "y = df1['review_scores_rating']\n",
    "#regression_target_1 = df1[regression_target]\n"
   ]
  },
  {
   "cell_type": "code",
   "execution_count": 225,
   "id": "conventional-wright",
   "metadata": {},
   "outputs": [
    {
     "name": "stdout",
     "output_type": "stream",
     "text": [
      "11434 5717 11434 5717\n"
     ]
    },
    {
     "data": {
      "text/plain": [
       "Text(0.5, 1.0, 'Plot')"
      ]
     },
     "execution_count": 225,
     "metadata": {},
     "output_type": "execute_result"
    },
    {
     "data": {
      "image/png": "[encoded data removed]",
      "text/plain": [
       "<Figure size 432x288 with 1 Axes>"
      ]
     },
     "metadata": {
      "needs_background": "light"
     },
     "output_type": "display_data"
    }
   ],
   "source": [
    "from sklearn import linear_model\n",
    "from sklearn.model_selection import train_test_split\n",
    "\n",
    "#x_train, x_test, y_train, y_test = train_test_split(x, y, test_size=1/3)\n",
    "#print(x_train.shape[0], x_test.shape[0], y_train.shape[0], y_test.shape[0])\n",
    "lm = linear_model.LinearRegression(normalize=True)\n",
    "\n",
    "lm.fit(X, y)\n",
    "\n",
    "#predictedRating = pd.DataFrame(lm.predict(X), columns=['Predicted Rating'])\n",
    "#actualRating = pd.DataFrame(y, columns=['Actual Rating'])\n",
    "#actualRating = actualRating.reset_index(drop=True)\n",
    "#actual_vs_predicted = pd.concat([actiualRating, predictedRating], axis=1)\n",
    "\n",
    "plt.scatter(y, lm.predict(X))\n",
    "plt.xlabel('Real Rating')\n",
    "plt.ylabel('Predicted Rating')\n",
    "#plt.rcParams['figure.figdize'] = (10, 6)\n",
    "plt.title(\"Plot\")"
   ]
  },
  {
   "cell_type": "code",
   "execution_count": null,
   "id": "cubic-senior",
   "metadata": {},
   "outputs": [],
   "source": []
  }
 ],
 "metadata": {
  "kernelspec": {
   "display_name": "Python 3",
   "language": "python",
   "name": "python3"
  },
  "language_info": {
   "codemirror_mode": {
    "name": "ipython",
    "version": 3
   },
   "file_extension": ".py",
   "mimetype": "text/x-python",
   "name": "python",
   "nbconvert_exporter": "python",
   "pygments_lexer": "ipython3",
   "version": "3.8.1"
  }
 },
 "nbformat": 4,
 "nbformat_minor": 5
}
